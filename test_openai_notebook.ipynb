{
 "cells": [
  {
   "cell_type": "markdown",
   "metadata": {},
   "source": [
    "# OpenAI API Test Notebook\n",
    "\n",
    "This notebook demonstrates basic usage of the OpenAI API with a simple test.\n"
   ]
  },
  {
   "cell_type": "code",
   "execution_count": 1,
   "metadata": {},
   "outputs": [
    {
     "name": "stdout",
     "output_type": "stream",
     "text": [
      "/Users/rachanabanik/Desktop/AIE8/AIE8/.venv/bin/python: No module named pip\n",
      "Note: you may need to restart the kernel to use updated packages.\n"
     ]
    }
   ],
   "source": [
    "# Install required packages if not already installed\n",
    "%pip install openai python-dotenv\n"
   ]
  },
  {
   "cell_type": "code",
   "execution_count": null,
   "metadata": {},
   "outputs": [],
   "source": [
    "import os\n",
    "import getpass\n",
    "\n",
    "os.environ[\"OPENAI_API_KEY\"] = getpass.getpass(\"OpenAI API Key:\")"
   ]
  },
  {
   "cell_type": "code",
   "execution_count": 3,
   "metadata": {},
   "outputs": [
    {
     "name": "stdout",
     "output_type": "stream",
     "text": [
      "❌ Simple completion test failed: \n",
      "\n",
      "You tried to access openai.ChatCompletion, but this is no longer supported in openai>=1.0.0 - see the README at https://github.com/openai/openai-python for the API.\n",
      "\n",
      "You can run `openai migrate` to automatically upgrade your codebase to use the 1.0.0 interface. \n",
      "\n",
      "Alternatively, you can pin your installation to the old version, e.g. `pip install openai==0.28`\n",
      "\n",
      "A detailed migration guide is available here: https://github.com/openai/openai-python/discussions/742\n",
      "\n"
     ]
    },
    {
     "data": {
      "text/plain": [
       "False"
      ]
     },
     "execution_count": 3,
     "metadata": {},
     "output_type": "execute_result"
    }
   ],
   "source": [
    "# Test 1: Simple completion\n",
    "def test_simple_completion():\n",
    "    try:\n",
    "        response = openai.ChatCompletion.create(\n",
    "            model=\"gpt-3.5-turbo\",\n",
    "            messages=[\n",
    "                {\"role\": \"user\", \"content\": \"Say 'Hello from OpenAI API!' and explain what you are in one sentence.\"}\n",
    "            ],\n",
    "            max_tokens=100\n",
    "        )\n",
    "        \n",
    "        print(\"✅ Simple completion test passed!\")\n",
    "        print(f\"Response: {response.choices[0].message.content}\")\n",
    "        return True\n",
    "        \n",
    "    except Exception as e:\n",
    "        print(f\"❌ Simple completion test failed: {e}\")\n",
    "        return False\n",
    "\n",
    "test_simple_completion()\n"
   ]
  },
  {
   "cell_type": "code",
   "execution_count": 5,
   "metadata": {},
   "outputs": [
    {
     "name": "stdout",
     "output_type": "stream",
     "text": [
      "❌ Conversation test failed: \n",
      "\n",
      "You tried to access openai.ChatCompletion, but this is no longer supported in openai>=1.0.0 - see the README at https://github.com/openai/openai-python for the API.\n",
      "\n",
      "You can run `openai migrate` to automatically upgrade your codebase to use the 1.0.0 interface. \n",
      "\n",
      "Alternatively, you can pin your installation to the old version, e.g. `pip install openai==0.28`\n",
      "\n",
      "A detailed migration guide is available here: https://github.com/openai/openai-python/discussions/742\n",
      "\n"
     ]
    },
    {
     "data": {
      "text/plain": [
       "False"
      ]
     },
     "execution_count": 5,
     "metadata": {},
     "output_type": "execute_result"
    }
   ],
   "source": [
    "# Test 2: Multiple messages conversation\n",
    "def test_conversation():\n",
    "    try:\n",
    "        messages = [\n",
    "            {\"role\": \"system\", \"content\": \"You are a helpful assistant that explains things clearly.\"},\n",
    "            {\"role\": \"user\", \"content\": \"What is machine learning?\"},\n",
    "            {\"role\": \"assistant\", \"content\": \"Machine learning is a subset of artificial intelligence that enables computers to learn and make decisions from data without being explicitly programmed.\"},\n",
    "            {\"role\": \"user\", \"content\": \"Give me a simple example.\"}\n",
    "        ]\n",
    "        \n",
    "        response = openai.ChatCompletion.create(\n",
    "            model=\"gpt-3.5-turbo\",\n",
    "            messages=messages,\n",
    "            max_tokens=150\n",
    "        )\n",
    "        \n",
    "        print(\"✅ Conversation test passed!\")\n",
    "        print(f\"Response: {response.choices[0].message.content}\")\n",
    "        return True\n",
    "        \n",
    "    except Exception as e:\n",
    "        print(f\"❌ Conversation test failed: {e}\")\n",
    "        return False\n",
    "\n",
    "test_conversation()\n"
   ]
  },
  {
   "cell_type": "code",
   "execution_count": 4,
   "metadata": {},
   "outputs": [
    {
     "name": "stdout",
     "output_type": "stream",
     "text": [
      "⚠️ GPT-4 test failed (this is normal if you don't have GPT-4 access): \n",
      "\n",
      "You tried to access openai.ChatCompletion, but this is no longer supported in openai>=1.0.0 - see the README at https://github.com/openai/openai-python for the API.\n",
      "\n",
      "You can run `openai migrate` to automatically upgrade your codebase to use the 1.0.0 interface. \n",
      "\n",
      "Alternatively, you can pin your installation to the old version, e.g. `pip install openai==0.28`\n",
      "\n",
      "A detailed migration guide is available here: https://github.com/openai/openai-python/discussions/742\n",
      "\n",
      "❌ Fallback test also failed: \n",
      "\n",
      "You tried to access openai.ChatCompletion, but this is no longer supported in openai>=1.0.0 - see the README at https://github.com/openai/openai-python for the API.\n",
      "\n",
      "You can run `openai migrate` to automatically upgrade your codebase to use the 1.0.0 interface. \n",
      "\n",
      "Alternatively, you can pin your installation to the old version, e.g. `pip install openai==0.28`\n",
      "\n",
      "A detailed migration guide is available here: https://github.com/openai/openai-python/discussions/742\n",
      "\n"
     ]
    },
    {
     "data": {
      "text/plain": [
       "False"
      ]
     },
     "execution_count": 4,
     "metadata": {},
     "output_type": "execute_result"
    }
   ],
   "source": [
    "# Test 3: Different model (if available)\n",
    "def test_different_model():\n",
    "    try:\n",
    "        response = openai.ChatCompletion.create(\n",
    "            model=\"gpt-4\",  # Try GPT-4 if you have access\n",
    "            messages=[\n",
    "                {\"role\": \"user\", \"content\": \"Write a haiku about programming.\"}\n",
    "            ],\n",
    "            max_tokens=100\n",
    "        )\n",
    "        \n",
    "        print(\"✅ GPT-4 test passed!\")\n",
    "        print(f\"Response: {response.choices[0].message.content}\")\n",
    "        return True\n",
    "        \n",
    "    except Exception as e:\n",
    "        print(f\"⚠️ GPT-4 test failed (this is normal if you don't have GPT-4 access): {e}\")\n",
    "        # Fallback to GPT-3.5-turbo\n",
    "        try:\n",
    "            response = openai.ChatCompletion.create(\n",
    "                model=\"gpt-3.5-turbo\",\n",
    "                messages=[\n",
    "                    {\"role\": \"user\", \"content\": \"Write a haiku about programming.\"}\n",
    "                ],\n",
    "                max_tokens=100\n",
    "            )\n",
    "            \n",
    "            print(\"✅ GPT-3.5-turbo fallback test passed!\")\n",
    "            print(f\"Response: {response.choices[0].message.content}\")\n",
    "            return True\n",
    "            \n",
    "        except Exception as e2:\n",
    "            print(f\"❌ Fallback test also failed: {e2}\")\n",
    "            return False\n",
    "\n",
    "test_different_model()\n"
   ]
  },
  {
   "cell_type": "code",
   "execution_count": null,
   "metadata": {},
   "outputs": [],
   "source": [
    "# Test 4: Error handling\n",
    "def test_error_handling():\n",
    "    try:\n",
    "        # This should fail with an invalid model name\n",
    "        response = openai.ChatCompletion.create(\n",
    "            model=\"invalid-model-name\",\n",
    "            messages=[\n",
    "                {\"role\": \"user\", \"content\": \"Hello\"}\n",
    "            ]\n",
    "        )\n",
    "        \n",
    "        print(\"❌ Error handling test failed - should have thrown an error\")\n",
    "        return False\n",
    "        \n",
    "    except Exception as e:\n",
    "        print(\"✅ Error handling test passed - correctly caught error\")\n",
    "        print(f\"Error message: {e}\")\n",
    "        return True\n",
    "\n",
    "test_error_handling()\n"
   ]
  },
  {
   "cell_type": "code",
   "execution_count": null,
   "metadata": {},
   "outputs": [],
   "source": [
    "# Summary of all tests\n",
    "print(\"\\n\" + \"=\"*50)\n",
    "print(\"🎉 OpenAI API Testing Complete!\")\n",
    "print(\"=\"*50)\n",
    "print(\"\\nIf all tests passed, your OpenAI API integration is working correctly!\")\n",
    "print(\"\\nNext steps:\")\n",
    "print(\"1. Make sure your .env file contains: OPENAI_API_KEY=your_key_here\")\n",
    "print(\"2. You can now use the OpenAI API in your projects\")\n",
    "print(\"3. Check the OpenAI documentation for more advanced features\")\n",
    "print(\"\\n📚 Useful resources:\")\n",
    "print(\"- OpenAI API Documentation: https://platform.openai.com/docs\")\n",
    "print(\"- OpenAI Python Library: https://github.com/openai/openai-python\")\n"
   ]
  }
 ],
 "metadata": {
  "kernelspec": {
   "display_name": ".venv",
   "language": "python",
   "name": "python3"
  },
  "language_info": {
   "codemirror_mode": {
    "name": "ipython",
    "version": 3
   },
   "file_extension": ".py",
   "mimetype": "text/x-python",
   "name": "python",
   "nbconvert_exporter": "python",
   "pygments_lexer": "ipython3",
   "version": "3.11.13"
  }
 },
 "nbformat": 4,
 "nbformat_minor": 4
}
